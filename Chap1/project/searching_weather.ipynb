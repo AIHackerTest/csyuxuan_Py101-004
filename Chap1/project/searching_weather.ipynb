{
 "cells": [
  {
   "cell_type": "code",
   "execution_count": 1,
   "metadata": {},
   "outputs": [
    {
     "name": "stdout",
     "output_type": "stream",
     "text": [
      "\n",
      "天气通欢迎您！\n",
      "输入城市名，返回该城市的天气数据；\n",
      "输入指令‘help’或者‘h’，打印帮助文档；\n",
      "输入指令‘history’，打印查询历史；\n",
      "输入指令‘quit’或者‘q’，打印查询历史并退出程序。\n",
      "\n",
      "请输入您的指令:北京\n",
      "北京 晴\n",
      "请输入您的指令:成都\n",
      "成都 小雨\n",
      "请输入您的指令:烟台\n",
      "烟台 小雨\n",
      "请输入您的指令:武冈\n",
      "武冈 毛毛雨/细雨\n",
      "请输入您的指令:邵阳\n",
      "邵阳 毛毛雨/细雨\n",
      "请输入您的指令:城步\n",
      "城步 多云\n",
      "请输入您的指令:城步 \n",
      "请输入您的指令:h\n",
      "\n",
      "天气通欢迎您！\n",
      "输入城市名，返回该城市的天气数据；\n",
      "输入指令‘help’或者‘h’，打印帮助文档；\n",
      "输入指令‘history’，打印查询历史；\n",
      "输入指令‘quit’或者‘q’，打印查询历史并退出程序。\n",
      "\n",
      "请输入您的指令:history\n",
      "[['北京', '晴'], ['成都', '小雨'], ['烟台', '小雨'], ['武冈', '毛毛雨/细雨'], ['邵阳', '毛毛雨/细雨'], ['城步', '多云']]\n",
      "请输入您的指令:q\n",
      "这是您的查询历史： [['北京', '晴'], ['成都', '小雨'], ['烟台', '小雨'], ['武冈', '毛毛雨/细雨'], ['邵阳', '毛毛雨/细雨'], ['城步', '多云']] \n",
      "感谢您的使用！\n"
     ]
    }
   ],
   "source": [
    "d = dict()\n",
    "with open('D:\\Py101-004\\Chap1\\project\\weather_info.txt', 'r', encoding='utf-8') as f:\n",
    "    for line in f.readlines():\n",
    "        line = line.strip().split(',')\n",
    "        d[line[0]] = line[1]\n",
    "\n",
    "help = ('''\n",
    "天气通欢迎您！\n",
    "输入城市名，返回该城市的天气数据；\n",
    "输入指令‘help’或者‘h’，打印帮助文档；\n",
    "输入指令‘history’，打印查询历史；\n",
    "输入指令‘quit’或者‘q’，打印查询历史并退出程序。\n",
    "''' )\n",
    "print(help)\n",
    "    \n",
    "history = []\n",
    "while True:\n",
    "    user_input = input(\"请输入您的指令:\")\n",
    "    if user_input == 'quit' or user_input == 'q':\n",
    "        print(\"这是您的查询历史：\", history, \"\\n感谢您的使用！\")\n",
    "        break\n",
    "    elif user_input == 'help ' or user_input == 'h':\n",
    "        print(help)\n",
    "    elif user_input == 'history':\n",
    "        print(history)\n",
    "    elif user_input in d:\n",
    "        print(user_input, d[user_input])\n",
    "        history.append([user_input,d[user_input]])\n",
    "    else:\n",
    "        continue\n",
    "    \n",
    "        "
   ]
  },
  {
   "cell_type": "code",
   "execution_count": null,
   "metadata": {
    "collapsed": true
   },
   "outputs": [],
   "source": []
  }
 ],
 "metadata": {
  "kernelspec": {
   "display_name": "Python 3",
   "language": "python",
   "name": "python3"
  },
  "language_info": {
   "codemirror_mode": {
    "name": "ipython",
    "version": 3
   },
   "file_extension": ".py",
   "mimetype": "text/x-python",
   "name": "python",
   "nbconvert_exporter": "python",
   "pygments_lexer": "ipython3",
   "version": "3.6.1"
  }
 },
 "nbformat": 4,
 "nbformat_minor": 2
}
