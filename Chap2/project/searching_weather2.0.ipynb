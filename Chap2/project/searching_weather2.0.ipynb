{
 "cells": [
  {
   "cell_type": "code",
   "execution_count": 1,
   "metadata": {},
   "outputs": [
    {
     "name": "stdout",
     "output_type": "stream",
     "text": [
      "\n",
      "    天气通欢迎您！\n",
      "    输入城市名，返回该城市的天气数据；\n",
      "    输入指令‘help’或者‘h’，打印帮助文档；\n",
      "    输入指令‘history’，打印查询历史；\n",
      "    输入指令‘quit’或者‘q’，打印查询历史并退出程序。\n",
      "    \n",
      "请输入城市名称：北京\n",
      "北京天气状况为：晴气温：29℃更新时间为：2017-08-24T19:30:00+08:00\n",
      "请输入城市名称：烟台\n",
      "烟台天气状况为：阴气温：24℃更新时间为：2017-08-24T19:30:00+08:00\n",
      "请输入城市名称：history\n",
      "北京天气状况为：晴气温：29℃更新时间为：2017-08-24T19:30:00+08:00\n",
      "烟台天气状况为：阴气温：24℃更新时间为：2017-08-24T19:30:00+08:00\n",
      "请输入城市名称：q\n",
      "北京天气状况为：晴气温：29℃更新时间为：2017-08-24T19:30:00+08:00\n",
      "烟台天气状况为：阴气温：24℃更新时间为：2017-08-24T19:30:00+08:00\n"
     ]
    }
   ],
   "source": [
    "import requests\n",
    "def print_help():\n",
    "    help = '''\n",
    "    天气通欢迎您！\n",
    "    输入城市名，返回该城市的天气数据；\n",
    "    输入指令‘help’或者‘h’，打印帮助文档；\n",
    "    输入指令‘history’，打印查询历史；\n",
    "    输入指令‘quit’或者‘q’，打印查询历史并退出程序。\n",
    "    '''\n",
    "    return print(help)\n",
    "    \n",
    "def fetch_weather(location):\n",
    "    location = user_input\n",
    "    payload = {'key':'dmeu3bkfxmp8lv8x', 'location':location, 'language':'zh-Hans', 'unit':'c'}\n",
    "    API = 'https://api.seniverse.com/v3/weather/now.json'\n",
    "    result = requests.get(API, params=payload, timeout=15)\n",
    "    weather_result = result.json()\n",
    "    if 'status' in weather_result.keys():\n",
    "        response = '请输入正确的城市名称：'\n",
    "        return response\n",
    "    else:\n",
    "        weather_dict = weather_result['results'][0]\n",
    "        city = weather_dict['location']['name']\n",
    "        weather_now_text = '天气状况为：' + weather_dict['now']['text']\n",
    "        weather_now_temperature = '气温：' + weather_dict['now']['temperature'] + '℃'\n",
    "        weather_time = '更新时间为：' + weather_dict['last_update']\n",
    "        weather = city + weather_now_text + weather_now_temperature + weather_time\n",
    "        return weather \n",
    "    \n",
    "def add_history():\n",
    "    history.append(weather)\n",
    "    return history \n",
    "    \n",
    "def print_history():\n",
    "    if len(history)==0:\n",
    "        print('您还没有开始查询呢!')\n",
    "    else:\n",
    "        for i in range(len(history)):\n",
    "            print(history[i])\n",
    "\n",
    "print_help()\n",
    "history = []\n",
    "          \n",
    "while True:\n",
    "    user_input = input(\"请输入城市名称：\")\n",
    "    weather = fetch_weather(user_input)\n",
    "    if user_input in ['quit', 'q']:\n",
    "        print_history()\n",
    "        break\n",
    "    elif user_input in ['h']:\n",
    "        print_help()\n",
    "    elif user_input in ['history']:\n",
    "        print_history()\n",
    "    else:\n",
    "        print(fetch_weather(user_input))\n",
    "        add_history()"
   ]
  },
  {
   "cell_type": "code",
   "execution_count": null,
   "metadata": {
    "collapsed": true
   },
   "outputs": [],
   "source": []
  }
 ],
 "metadata": {
  "kernelspec": {
   "display_name": "Python 3",
   "language": "python",
   "name": "python3"
  },
  "language_info": {
   "codemirror_mode": {
    "name": "ipython",
    "version": 3
   },
   "file_extension": ".py",
   "mimetype": "text/x-python",
   "name": "python",
   "nbconvert_exporter": "python",
   "pygments_lexer": "ipython3",
   "version": "3.6.1"
  }
 },
 "nbformat": 4,
 "nbformat_minor": 2
}
